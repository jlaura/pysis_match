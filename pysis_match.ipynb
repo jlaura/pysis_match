{
 "metadata": {
  "name": "",
  "signature": "sha256:f136ea3531ad71f7d5c865c2e68ef6e6c8a7ac9c28b2a889852e97fcbe4825b2"
 },
 "nbformat": 3,
 "nbformat_minor": 0,
 "worksheets": [
  {
   "cells": [
    {
     "cell_type": "code",
     "collapsed": false,
     "input": [
      "from ast import literal_eval\n",
      "from collections import OrderedDict, defaultdict\n",
      "from itertools import islice\n",
      "import json\n",
      "import re\n",
      "\n",
      "import numpy as np\n",
      "import tables as tb\n",
      "import h5py as h5\n",
      "import matplotlib.pyplot as plt\n",
      "import matplotlib.image as mpimg\n",
      "\n",
      "import pandas as pd\n",
      "\n",
      "import cv2\n",
      "import mouse_and_match\n",
      "#import ControlNetFileV0002_pb2 as spec\n",
      "\n",
      "import time\n",
      "\n",
      "from osgeo import gdal\n",
      "\n",
      "import sys\n",
      "\n",
      "#from find_obj import filter_matches,explore_match"
     ],
     "language": "python",
     "metadata": {},
     "outputs": [],
     "prompt_number": 45
    },
    {
     "cell_type": "code",
     "collapsed": false,
     "input": [
      "src_img = gdal.Open('EW0217133430G.IMG')\n",
      "imgarray = np.array(src_img.GetRasterBand(1).ReadAsArray())\n",
      "src_img2 = gdal.Open('EW0217554913E.IMG')\n",
      "img2array = np.array(src_img2.GetRasterBand(1).ReadAsArray())"
     ],
     "language": "python",
     "metadata": {},
     "outputs": [],
     "prompt_number": 20
    },
    {
     "cell_type": "code",
     "collapsed": false,
     "input": [
      "orb = cv2.ORB()"
     ],
     "language": "python",
     "metadata": {},
     "outputs": [],
     "prompt_number": 21
    },
    {
     "cell_type": "code",
     "collapsed": false,
     "input": [
      "print type(src_img)\n",
      "print type(imgarray)"
     ],
     "language": "python",
     "metadata": {},
     "outputs": [
      {
       "output_type": "stream",
       "stream": "stdout",
       "text": [
        "<class 'osgeo.gdal.Dataset'>\n",
        "<type 'numpy.ndarray'>\n"
       ]
      }
     ],
     "prompt_number": 24
    },
    {
     "cell_type": "code",
     "collapsed": false,
     "input": [
      "kp1, des1 = orb.detectAndCompute(imgarray,None)\n",
      "kp2, des2 = orb.detectAndCompute(img2array,None)"
     ],
     "language": "python",
     "metadata": {},
     "outputs": [
      {
       "output_type": "stream",
       "stream": "stdout",
       "text": [
        "[[ 43 150 111 ..., 140 116 245]\n",
        " [116 236 248 ..., 113 198  34]\n",
        " [196 108  20 ..., 121   8   0]\n",
        " ..., \n",
        " [192 121 115 ...,  49   3  58]\n",
        " [ 35 249 104 ...,  12  90 221]\n",
        " [180  82 123 ..., 138  71 245]]\n"
       ]
      }
     ],
     "prompt_number": 40
    },
    {
     "cell_type": "code",
     "collapsed": false,
     "input": [
      "bf = cv2.BFMatcher(cv2.NORM_HAMMING, crossCheck=True)\n",
      "matches = bf.match(des1,des2)\n",
      "#matches = sorted(matches, key = lambda x:x.distance)\n",
      "p1, p2, kp_pairs = filter_matches(kp1,kp2, matches)\n",
      "explore_match('find_obj', imgarray, img2array, kp_pairs)\n",
      "cv2.waitKey()\n",
      "cv2.destroyAllWindows()\n",
      "#img3 = cv2.drawMatches(imgarray,kp1,img2array,kp2,matches[:10], flags=2)\n",
      "#plt.imshow(im3), plt.show()"
     ],
     "language": "python",
     "metadata": {},
     "outputs": [
      {
       "ename": "TypeError",
       "evalue": "object of type 'cv2.DMatch' has no len()",
       "output_type": "pyerr",
       "traceback": [
        "\u001b[0;31m---------------------------------------------------------------------------\u001b[0m\n\u001b[0;31mTypeError\u001b[0m                                 Traceback (most recent call last)",
        "\u001b[0;32m<ipython-input-46-827ba09a7285>\u001b[0m in \u001b[0;36m<module>\u001b[0;34m()\u001b[0m\n\u001b[1;32m      2\u001b[0m \u001b[0mmatches\u001b[0m \u001b[0;34m=\u001b[0m \u001b[0mbf\u001b[0m\u001b[0;34m.\u001b[0m\u001b[0mmatch\u001b[0m\u001b[0;34m(\u001b[0m\u001b[0mdes1\u001b[0m\u001b[0;34m,\u001b[0m\u001b[0mdes2\u001b[0m\u001b[0;34m)\u001b[0m\u001b[0;34m\u001b[0m\u001b[0m\n\u001b[1;32m      3\u001b[0m \u001b[0;31m#matches = sorted(matches, key = lambda x:x.distance)\u001b[0m\u001b[0;34m\u001b[0m\u001b[0;34m\u001b[0m\u001b[0m\n\u001b[0;32m----> 4\u001b[0;31m \u001b[0mp1\u001b[0m\u001b[0;34m,\u001b[0m \u001b[0mp2\u001b[0m\u001b[0;34m,\u001b[0m \u001b[0mkp_pairs\u001b[0m \u001b[0;34m=\u001b[0m \u001b[0mfilter_matches\u001b[0m\u001b[0;34m(\u001b[0m\u001b[0mkp1\u001b[0m\u001b[0;34m,\u001b[0m\u001b[0mkp2\u001b[0m\u001b[0;34m,\u001b[0m \u001b[0mmatches\u001b[0m\u001b[0;34m)\u001b[0m\u001b[0;34m\u001b[0m\u001b[0m\n\u001b[0m\u001b[1;32m      5\u001b[0m \u001b[0mexplore_match\u001b[0m\u001b[0;34m(\u001b[0m\u001b[0;34m'find_obj'\u001b[0m\u001b[0;34m,\u001b[0m \u001b[0mimgarray\u001b[0m\u001b[0;34m,\u001b[0m \u001b[0mimg2array\u001b[0m\u001b[0;34m,\u001b[0m \u001b[0mkp_pairs\u001b[0m\u001b[0;34m)\u001b[0m\u001b[0;34m\u001b[0m\u001b[0m\n\u001b[1;32m      6\u001b[0m \u001b[0mcv2\u001b[0m\u001b[0;34m.\u001b[0m\u001b[0mwaitKey\u001b[0m\u001b[0;34m(\u001b[0m\u001b[0;34m)\u001b[0m\u001b[0;34m\u001b[0m\u001b[0m\n",
        "\u001b[0;32m/Users/moses/anaconda/lib/python2.7/site-packages/find_obj.pyc\u001b[0m in \u001b[0;36mfilter_matches\u001b[0;34m(kp1, kp2, matches, ratio)\u001b[0m\n\u001b[1;32m     51\u001b[0m     \u001b[0mmkp1\u001b[0m\u001b[0;34m,\u001b[0m \u001b[0mmkp2\u001b[0m \u001b[0;34m=\u001b[0m \u001b[0;34m[\u001b[0m\u001b[0;34m]\u001b[0m\u001b[0;34m,\u001b[0m \u001b[0;34m[\u001b[0m\u001b[0;34m]\u001b[0m\u001b[0;34m\u001b[0m\u001b[0m\n\u001b[1;32m     52\u001b[0m     \u001b[0;32mfor\u001b[0m \u001b[0mm\u001b[0m \u001b[0;32min\u001b[0m \u001b[0mmatches\u001b[0m\u001b[0;34m:\u001b[0m\u001b[0;34m\u001b[0m\u001b[0m\n\u001b[0;32m---> 53\u001b[0;31m         \u001b[0;32mif\u001b[0m \u001b[0mlen\u001b[0m\u001b[0;34m(\u001b[0m\u001b[0mm\u001b[0m\u001b[0;34m)\u001b[0m \u001b[0;34m==\u001b[0m \u001b[0;36m2\u001b[0m \u001b[0;32mand\u001b[0m \u001b[0mm\u001b[0m\u001b[0;34m[\u001b[0m\u001b[0;36m0\u001b[0m\u001b[0;34m]\u001b[0m\u001b[0;34m.\u001b[0m\u001b[0mdistance\u001b[0m \u001b[0;34m<\u001b[0m \u001b[0mm\u001b[0m\u001b[0;34m[\u001b[0m\u001b[0;36m1\u001b[0m\u001b[0;34m]\u001b[0m\u001b[0;34m.\u001b[0m\u001b[0mdistance\u001b[0m \u001b[0;34m*\u001b[0m \u001b[0mratio\u001b[0m\u001b[0;34m:\u001b[0m\u001b[0;34m\u001b[0m\u001b[0m\n\u001b[0m\u001b[1;32m     54\u001b[0m             \u001b[0mm\u001b[0m \u001b[0;34m=\u001b[0m \u001b[0mm\u001b[0m\u001b[0;34m[\u001b[0m\u001b[0;36m0\u001b[0m\u001b[0;34m]\u001b[0m\u001b[0;34m\u001b[0m\u001b[0m\n\u001b[1;32m     55\u001b[0m             \u001b[0mmkp1\u001b[0m\u001b[0;34m.\u001b[0m\u001b[0mappend\u001b[0m\u001b[0;34m(\u001b[0m \u001b[0mkp1\u001b[0m\u001b[0;34m[\u001b[0m\u001b[0mm\u001b[0m\u001b[0;34m.\u001b[0m\u001b[0mqueryIdx\u001b[0m\u001b[0;34m]\u001b[0m \u001b[0;34m)\u001b[0m\u001b[0;34m\u001b[0m\u001b[0m\n",
        "\u001b[0;31mTypeError\u001b[0m: object of type 'cv2.DMatch' has no len()"
       ]
      }
     ],
     "prompt_number": 46
    },
    {
     "cell_type": "code",
     "collapsed": false,
     "input": [
      "src_img2 = gdal.Open('EW1022482170B.cal.cub')\n",
      "img2array = np.array(src_img2.GetRasterBand(1).ReadAsArray())\n",
      "print \"[Raster Band Count] : \", src_img2.RasterCount"
     ],
     "language": "python",
     "metadata": {},
     "outputs": [
      {
       "output_type": "stream",
       "stream": "stdout",
       "text": [
        "[Raster Band Count] :  1\n"
       ]
      }
     ],
     "prompt_number": 30
    },
    {
     "cell_type": "code",
     "collapsed": false,
     "input": [
      "orb = cv2.ORB()"
     ],
     "language": "python",
     "metadata": {},
     "outputs": [],
     "prompt_number": 9
    },
    {
     "cell_type": "code",
     "collapsed": false,
     "input": [
      "imgarray = np.dstack((imgarray,imgarray,imgarray))"
     ],
     "language": "python",
     "metadata": {},
     "outputs": [],
     "prompt_number": 12
    },
    {
     "cell_type": "code",
     "collapsed": false,
     "input": [
      "im2array = np.dstack((img2array,img2array,img2array))"
     ],
     "language": "python",
     "metadata": {},
     "outputs": [],
     "prompt_number": 13
    },
    {
     "cell_type": "code",
     "collapsed": false,
     "input": [
      "imgplot = plt.imshow(imgarray)\n",
      "plt.show()"
     ],
     "language": "python",
     "metadata": {},
     "outputs": [],
     "prompt_number": 30
    },
    {
     "cell_type": "code",
     "collapsed": false,
     "input": [
      "img2plot = plt.imshow(img2array)\n",
      "plt.show()"
     ],
     "language": "python",
     "metadata": {},
     "outputs": [],
     "prompt_number": 32
    },
    {
     "cell_type": "code",
     "collapsed": false,
     "input": [],
     "language": "python",
     "metadata": {},
     "outputs": [
      {
       "output_type": "stream",
       "stream": "stdout",
       "text": [
        "[Raster Band Count] :  1\n"
       ]
      }
     ],
     "prompt_number": 32
    },
    {
     "cell_type": "code",
     "collapsed": false,
     "input": [],
     "language": "python",
     "metadata": {},
     "outputs": []
    }
   ],
   "metadata": {}
  }
 ]
}
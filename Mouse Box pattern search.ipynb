{
 "metadata": {
  "name": "",
  "signature": "sha256:974f106a0e1e1984cb2e6305be983b36910d2df7df8284350f83bcaa748b7ea0"
 },
 "nbformat": 3,
 "nbformat_minor": 0,
 "worksheets": [
  {
   "cells": [
    {
     "cell_type": "code",
     "collapsed": false,
     "input": [
      "import numpy as np\n",
      "from math import *\n",
      "import sys\n",
      "import os\n",
      "import glob\n",
      "import argparse\n",
      "import cv2 as cv\n",
      "import numpy as np\n",
      "import tables as tb\n",
      "import h5py as h5\n",
      "import matplotlib.pyplot as plt\n",
      "import matplotlib.image as mpimg\n",
      "\n",
      "import pandas as pd\n",
      "from osgeo import gdal\n"
     ],
     "language": "python",
     "metadata": {},
     "outputs": [],
     "prompt_number": 15
    },
    {
     "cell_type": "code",
     "collapsed": false,
     "input": [
      "drag_start = None\n",
      "sel = (0,0,0,0)\n"
     ],
     "language": "python",
     "metadata": {},
     "outputs": [],
     "prompt_number": 16
    },
    {
     "cell_type": "code",
     "collapsed": false,
     "input": [
      "def onmouse(event, x, y, flags, param):\n",
      "    global drag_start, sel\n",
      "    if event == cv.EVENT_LBUTTONDOWN:\n",
      "        drag_start = x, y\n",
      "        sel = 0,0,0,0\n",
      "    elif event == cv.EVENT_LBUTTONUP:\n",
      "        if sel[2] > sel[0] and sel[3] > sel[1]:\n",
      "            patch = img[sel[1]:sel[3],sel[0]:sel[2]]\n",
      "            result = cv.matchTemplate(img,patch,cv.TM_CCOEFF_NORMED)\n",
      "            result = np.abs(result)**3\n",
      "            val, result = cv.threshold(result, 0.01, 0, cv.THRESH_TOZERO)\n",
      "            result8 = cv.normalize(result,None,0,255,cv.NORM_MINMAX,cv.CV_8U)\n",
      "            cv.imshow(\"result\", result8)\n",
      "        drag_start = None\n",
      "    elif drag_start:\n",
      "        #print flags\n",
      "        if flags & cv.EVENT_FLAG_LBUTTON:\n",
      "            minpos = min(drag_start[0], x), min(drag_start[1], y)\n",
      "            maxpos = max(drag_start[0], x), max(drag_start[1], y)\n",
      "            sel = minpos[0], minpos[1], maxpos[0], maxpos[1]\n",
      "            #img = cv.cvtColor(gray, cv.COLOR_GRAY2BGR)\n",
      "            cv.rectangle(img, (sel[0], sel[1]), (sel[2], sel[3]), (0,255,255), 1)\n",
      "            cv.imshow(\"gray\", img)\n",
      "        else:\n",
      "            print \"selection is complete\"\n",
      "            drag_start = None\n",
      "\n"
     ],
     "language": "python",
     "metadata": {},
     "outputs": [],
     "prompt_number": 17
    },
    {
     "cell_type": "code",
     "collapsed": false,
     "input": [
      "path = \"./\"\n",
      "cv.namedWindow(\"gray\",1)\n",
      "cv.setMouseCallback(\"gray\", onmouse)\n",
      "'''Loop through all the images in the directory'''\n",
      "for infile in glob.glob( os.path.join(path, '*.*') ):\n",
      "    ext = os.path.splitext(infile)[1][1:] #get the filename extenstion\n",
      "    if ext == \"IMG\" or ext == \"img\" or ext == \"png\" or ext == \"jpg\" or ext == \"bmp\" or ext == \"tiff\" or ext == \"pbm\":\n",
      "        print infile\n",
      "        #img=cv.imread(infile,1)\n",
      "        img_gdal = gdal.Open(infile)\n",
      "        print type(img_gdal)\n",
      "        img = np.array(img_gdal.GetRasterBand(1).ReadAsArray())\n",
      "        print type(img)\n",
      "#        if img == None:\n",
      "#            continue\n",
      "        sel = (0,0,0,0)\n",
      "        drag_start = None\n",
      "        #gray=cv.cvtColor(img, cv.COLOR_BGR2GRAY)\n",
      "        cv.imshow(\"gray\",img)\n",
      "        if (cv.waitKey() & 255) == 27:\n",
      "            break\n",
      "cv.destroyAllWindows()\n"
     ],
     "language": "python",
     "metadata": {},
     "outputs": [
      {
       "output_type": "stream",
       "stream": "stdout",
       "text": [
        "./EW0217133430G.IMG\n",
        "<class 'osgeo.gdal.Dataset'>\n",
        "<type 'numpy.ndarray'>\n",
        "./EW0217554913E.IMG"
       ]
      },
      {
       "output_type": "stream",
       "stream": "stdout",
       "text": [
        "\n",
        "<class 'osgeo.gdal.Dataset'>\n",
        "<type 'numpy.ndarray'>\n",
        "./EW0217559546C.IMG"
       ]
      },
      {
       "output_type": "stream",
       "stream": "stdout",
       "text": [
        "\n",
        "<class 'osgeo.gdal.Dataset'>\n",
        "<type 'numpy.ndarray'>\n"
       ]
      }
     ],
     "prompt_number": 18
    },
    {
     "cell_type": "code",
     "collapsed": false,
     "input": [],
     "language": "python",
     "metadata": {},
     "outputs": [],
     "prompt_number": 7
    },
    {
     "cell_type": "code",
     "collapsed": false,
     "input": [],
     "language": "python",
     "metadata": {},
     "outputs": []
    }
   ],
   "metadata": {}
  }
 ]
}
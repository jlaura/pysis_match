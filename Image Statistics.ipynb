{
 "metadata": {
  "name": "",
  "signature": "sha256:98bf13635dbd0e22f783a0b4f3d69cda189eca53ff620b8c3fdc8b52bd5d7f11"
 },
 "nbformat": 3,
 "nbformat_minor": 0,
 "worksheets": [
  {
   "cells": [
    {
     "cell_type": "code",
     "collapsed": false,
     "input": [
      "import cv2\n",
      "import numpy as np\n",
      "from osgeo import gdal\n",
      "import matplotlib.pyplot as plt\n",
      "import matplotlib.image as mpimg\n",
      "import matplotlib.cm as cm\n",
      "import time\n",
      "from scipy import stats"
     ],
     "language": "python",
     "metadata": {},
     "outputs": [],
     "prompt_number": 1
    },
    {
     "cell_type": "code",
     "collapsed": false,
     "input": [
      "t1 = time.time()\n",
      "fnm1= '/work/users/moses/testing/ESP_020758_1780_RED.cub'\n",
      "gdimg1 = gdal.Open(fnm1)\n",
      "img1 = np.array(gdimg1.GetRasterBand(1).ReadAsArray())\n",
      "img1 = np.float32(img1)\n",
      "imin = np.amin(img1)\n",
      "imax = np.amax(img1)\n",
      "prng = np.ptp(img1)\n",
      "imed = np.median(img1)\n",
      "istd = np.std(img1)\n",
      "ivar = np.var(img1)\n",
      "ihist = np.histogram(img1)\n",
      "imode = stats.mode(img1)\n",
      "print imin, \" minimum\"\n",
      "print imax, \" maximum\"\n",
      "print prng, \" Range\"\n",
      "print imed, \" median\"\n",
      "print istd, \" standard deviation\"\n",
      "print ivar, \" variance\"\n",
      "print ihist, \" histogram\"\n",
      "print img1.size()\n",
      "t2 = time.time()\n",
      "print t2 - t1"
     ],
     "language": "python",
     "metadata": {},
     "outputs": []
    },
    {
     "cell_type": "code",
     "collapsed": false,
     "input": [
      "MIN_MATCH_COUNT = 10"
     ],
     "language": "python",
     "metadata": {},
     "outputs": [],
     "prompt_number": 59
    },
    {
     "cell_type": "code",
     "collapsed": false,
     "input": [
      "dst = cv2.dilate(dst,None)"
     ],
     "language": "python",
     "metadata": {},
     "outputs": [],
     "prompt_number": 60
    },
    {
     "cell_type": "code",
     "collapsed": false,
     "input": [
      "img[dst>0.01*dst.max()] = [255]"
     ],
     "language": "python",
     "metadata": {},
     "outputs": [],
     "prompt_number": 61
    },
    {
     "cell_type": "code",
     "collapsed": false,
     "input": [
      "imgplot = plt.imshow(img, cmap = cm.Greys_r)\n",
      "plt.show()"
     ],
     "language": "python",
     "metadata": {},
     "outputs": [],
     "prompt_number": 62
    },
    {
     "cell_type": "code",
     "collapsed": false,
     "input": [],
     "language": "python",
     "metadata": {},
     "outputs": []
    },
    {
     "cell_type": "code",
     "collapsed": false,
     "input": [],
     "language": "python",
     "metadata": {},
     "outputs": []
    }
   ],
   "metadata": {}
  }
 ]
}